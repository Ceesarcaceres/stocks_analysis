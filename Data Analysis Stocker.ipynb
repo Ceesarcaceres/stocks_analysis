{
 "cells": [
  {
   "cell_type": "code",
   "execution_count": null,
   "id": "bd49ea5c",
   "metadata": {},
   "outputs": [],
   "source": [
    "#pip install stocker"
   ]
  },
  {
   "cell_type": "code",
   "execution_count": 25,
   "id": "eddcf46e",
   "metadata": {},
   "outputs": [],
   "source": [
    "import numpy as np\n",
    "import pandas as pd\n",
    "import matplotlib.pyplot as plt\n",
    "import matplotlib.dates as mdates\n",
    "import stocker\n",
    "from stocker.predict import tomorrow\n",
    "import seaborn as sn"
   ]
  },
  {
   "cell_type": "code",
   "execution_count": 3,
   "id": "b7816d82",
   "metadata": {},
   "outputs": [],
   "source": [
    "Microsoft = 'MSFT'"
   ]
  },
  {
   "cell_type": "markdown",
   "id": "7a66b84e",
   "metadata": {},
   "source": [
    "#### Checando as diferenças usando diferentes períodos de data"
   ]
  },
  {
   "cell_type": "code",
   "execution_count": 6,
   "id": "e6db4a95",
   "metadata": {},
   "outputs": [
    {
     "name": "stdout",
     "output_type": "stream",
     "text": [
      "[*********************100%***********************]  1 of 1 completed\n",
      "[*********************100%***********************]  1 of 1 completed\n",
      "[*********************100%***********************]  1 of 1 completed\n",
      "Erro usando 1 ano de data: 0.968 %\n",
      "Erro usando 2 anos de data: 1.255 %\n",
      "Erro usando 3 anos de data: 1.087 %\n"
     ]
    }
   ],
   "source": [
    "error1 = tomorrow(Microsoft, years = 1)[1]\n",
    "error2 = tomorrow(Microsoft, years = 2)[1]\n",
    "error3 = tomorrow(Microsoft, years = 3)[1]\n",
    "print('Erro usando 1 ano de data:', error1, '%')\n",
    "print('Erro usando 2 anos de data:', error2, '%')\n",
    "print('Erro usando 3 anos de data:', error3, '%')"
   ]
  },
  {
   "cell_type": "markdown",
   "id": "ed9823db",
   "metadata": {},
   "source": [
    "#### Aparentemente é melhor usar somente dados do último ano. Isso pode ser devido ao entendimento do modelo, se somente o comportamento mais recente esta envolvido no modelo, portanto é feita uma melhor predição."
   ]
  },
  {
   "cell_type": "markdown",
   "id": "085d09a3",
   "metadata": {},
   "source": [
    "#### Agora vamos checar a diferença usando quantidades diferentes de dias para os passos de entradas:"
   ]
  },
  {
   "cell_type": "code",
   "execution_count": 7,
   "id": "9ba7b868",
   "metadata": {},
   "outputs": [
    {
     "name": "stdout",
     "output_type": "stream",
     "text": [
      "[*********************100%***********************]  1 of 1 completed\n",
      "[*********************100%***********************]  1 of 1 completed\n",
      "[*********************100%***********************]  1 of 1 completed\n",
      "Erro usando 1 dia anterior de dados: 1.014 %\n",
      "Erro usando 10 dias anterior de dados: 2.62 %\n",
      "Erro usando 20 dias anterior de dados: 1.194 %\n"
     ]
    }
   ],
   "source": [
    "error1 = tomorrow(Microsoft, steps = 1)[1]\n",
    "error2 = tomorrow(Microsoft, steps = 10)[1]\n",
    "error3 = tomorrow(Microsoft, steps = 20)[1]\n",
    "print('Erro usando 1 dia anterior de dados:', error1, '%')\n",
    "print('Erro usando 10 dias anterior de dados:', error2, '%')\n",
    "print('Erro usando 20 dias anterior de dados:', error3, '%')"
   ]
  },
  {
   "cell_type": "markdown",
   "id": "bb641c8e",
   "metadata": {},
   "source": [
    "#### Novamente, checando que a data mais recente é a melhor opção. Isso não significa que o modelo não está levando em conta todo o comportamento durante todo o período de tempo."
   ]
  },
  {
   "cell_type": "markdown",
   "id": "6f26b618",
   "metadata": {},
   "source": [
    "#### Agora vamos checar a diferença usando diferentes features:"
   ]
  },
  {
   "cell_type": "code",
   "execution_count": 8,
   "id": "dcf3d9d7",
   "metadata": {
    "scrolled": true
   },
   "outputs": [
    {
     "name": "stdout",
     "output_type": "stream",
     "text": [
      "[*********************100%***********************]  1 of 1 completed\n",
      "[*********************100%***********************]  1 of 1 completed\n",
      "[*********************100%***********************]  1 of 1 completed\n",
      "[*********************100%***********************]  1 of 1 completed\n",
      "[*********************100%***********************]  1 of 1 completed\n",
      "[*********************100%***********************]  1 of 1 completed\n",
      "[*********************100%***********************]  1 of 1 completed\n",
      "[*********************100%***********************]  1 of 1 completed\n",
      "[*********************100%***********************]  1 of 1 completed\n",
      "[*********************100%***********************]  1 of 1 completed\n",
      "[*********************100%***********************]  1 of 1 completed\n",
      "Error by including Open prices: 0.943 %\n",
      "Error by including Low prices: 0.977 %\n",
      "Error by including High prices: 1.137 %\n",
      "Error by including Volume: 0.961 %\n",
      "Error by including Adj Close prices: 1.003 %\n",
      "Error by including Interest: 1.071 %\n",
      "Error by including Wiki_views: 0.967 %\n",
      "Error by including indicators: 1.07 %\n",
      "Error by including only Close prices: 1.231 %\n",
      "Error by including all the features: 0.896 %\n",
      "Error by including the features from Yahoo Finance: [337.95, 0.823, '2021-11-08'] %\n"
     ]
    }
   ],
   "source": [
    "error1 = tomorrow(Microsoft, features=['Open'])[1]\n",
    "error2 = tomorrow(Microsoft, features=['Low'])[1]\n",
    "error3 = tomorrow(Microsoft, features=['High'])[1]\n",
    "error4 = tomorrow(Microsoft, features=['Volume'])[1]\n",
    "error5 = tomorrow(Microsoft, features=['Adj Close'])[1]\n",
    "error6 = tomorrow(Microsoft, features=['Interest'])[1]\n",
    "error7 = tomorrow(Microsoft, features=['Wiki_views'])[1]\n",
    "error8 = tomorrow(Microsoft, features=['RSI', '%K', '%R'])[1]\n",
    "error9 = tomorrow(Microsoft)[1]\n",
    "error10 = tomorrow(Microsoft, features=['Open','Low','High','Volume',\n",
    "                                       'Adj Close', 'Interest',\n",
    "                                       'Wiki_views', 'RSI', '%K', '%R'])[1]\n",
    "error11 = tomorrow(Microsoft, features=['Open', 'Low', 'High', 'Volume',\n",
    "                                        'Adj Close'])\n",
    "print('Error by including Open prices:',error1,'%')\n",
    "print('Error by including Low prices:',error2,'%')\n",
    "print('Error by including High prices:',error3,'%')\n",
    "print('Error by including Volume:',error4,'%')\n",
    "print('Error by including Adj Close prices:',error5,'%')\n",
    "print('Error by including Interest:',error6,'%')\n",
    "print('Error by including Wiki_views:',error7,'%')\n",
    "print('Error by including indicators:',error8,'%')\n",
    "print('Error by including only Close prices:',error9,'%')\n",
    "print('Error by including all the features:',error10,'%')\n",
    "print('Error by including the features from Yahoo Finance:',error11,'%')"
   ]
  },
  {
   "cell_type": "markdown",
   "id": "c5a985b0",
   "metadata": {
    "scrolled": true
   },
   "source": [
    "#### Usando somente o preço de fechamento anterior mostra um erro mais aproximado do que usando todas as features, então é uma boa opção para economizar  tempo enquanto está executando o código. De qualquer forma, é recomendado implementar vários casos com diferentes features e escolher o caso com o menor erro."
   ]
  },
  {
   "cell_type": "markdown",
   "id": "189862f8",
   "metadata": {},
   "source": [
    "#### Finalmente vamos checar o coeficiente de correlação de Pearson para cada feature contra os preços de fechamento"
   ]
  },
  {
   "cell_type": "code",
   "execution_count": 9,
   "id": "f82e04be",
   "metadata": {},
   "outputs": [],
   "source": [
    "from stocker.get_data import correlation"
   ]
  },
  {
   "cell_type": "code",
   "execution_count": 27,
   "id": "d73b50c9",
   "metadata": {},
   "outputs": [
    {
     "name": "stdout",
     "output_type": "stream",
     "text": [
      "[*********************100%***********************]  1 of 1 completed\n"
     ]
    }
   ],
   "source": [
    "corr = correlation(Microsoft, interest = True, wiki_views = True, indicators = True)"
   ]
  },
  {
   "cell_type": "code",
   "execution_count": 30,
   "id": "16d988cc",
   "metadata": {},
   "outputs": [
    {
     "data": {
      "text/plain": [
       "Open         0.996636\n",
       "High         0.998863\n",
       "Low          0.998535\n",
       "Close        1.000000\n",
       "Adj Close    0.999970\n",
       "Volume      -0.286904\n",
       "%K           0.309679\n",
       "%R           0.309679\n",
       "RSI          0.199569\n",
       "Name: Close, dtype: float64"
      ]
     },
     "execution_count": 30,
     "metadata": {},
     "output_type": "execute_result"
    }
   ],
   "source": [
    "corr"
   ]
  },
  {
   "cell_type": "code",
   "execution_count": 11,
   "id": "1ee70aac",
   "metadata": {},
   "outputs": [
    {
     "name": "stdout",
     "output_type": "stream",
     "text": [
      "[*********************100%***********************]  1 of 1 completed\n"
     ]
    }
   ],
   "source": [
    "Microsoft_prediction = stocker.predict.tomorrow('MSFT')"
   ]
  },
  {
   "cell_type": "code",
   "execution_count": 13,
   "id": "5fccaad2",
   "metadata": {},
   "outputs": [
    {
     "data": {
      "text/plain": [
       "[340.63, 0.952, '2021-11-08']"
      ]
     },
     "execution_count": 13,
     "metadata": {},
     "output_type": "execute_result"
    }
   ],
   "source": [
    "Microsoft_prediction\n",
    "# [Preço previsto, error(%), data da próx abertura]"
   ]
  }
 ],
 "metadata": {
  "kernelspec": {
   "display_name": "Python 3",
   "language": "python",
   "name": "python3"
  },
  "language_info": {
   "codemirror_mode": {
    "name": "ipython",
    "version": 3
   },
   "file_extension": ".py",
   "mimetype": "text/x-python",
   "name": "python",
   "nbconvert_exporter": "python",
   "pygments_lexer": "ipython3",
   "version": "3.8.8"
  }
 },
 "nbformat": 4,
 "nbformat_minor": 5
}
